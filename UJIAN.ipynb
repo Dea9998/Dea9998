{
  "nbformat": 4,
  "nbformat_minor": 0,
  "metadata": {
    "colab": {
      "provenance": []
    },
    "kernelspec": {
      "name": "python3",
      "display_name": "Python 3"
    },
    "language_info": {
      "name": "python"
    }
  },
  "cells": [
    {
      "cell_type": "code",
      "execution_count": null,
      "metadata": {
        "id": "UCWSjmB13VAs"
      },
      "outputs": [],
      "source": [
        "print('Topik menghitung faktorial menggunakan rekursi dalam pyhton ')\n",
        "\n",
        "# Dasar Algoritma dan Pemrograman - BisDig\n",
        "\n",
        "## Studi Kasus: Menghitung Faktorial dengan Rekursi\n",
        "\n",
        "### Deskripsi\n",
        "menjelaskan bagaimana menghitung faktorial menggunakan fungsi rekursif dalam Python.\n",
        "\n",
        "### Manfaat Penggunaan Fungsi\n",
        "- Membuat program modular.\n",
        "- Memudahkan debugging.\n",
        "- Kode lebih mudah dipahami dan digunakan kembali.\n",
        "\n",
        "### Penjelasan Rekursi\n",
        "- Rekursi: Fungsi memanggil dirinya sendiri untuk menyelesaikan masalah yang lebih kecil.\n",
        "- Basis: Kondisi dasar yang digunakan untuk menghentikan pemanggilan rekursif.\n",
        "\n",
        "# Program pyhton rekursif\n",
        "Rumus Faktorial\n",
        "n! = n × (n-1)!\n",
        "Basis: 0! = 1\n",
        "\n",
        "def faktorial(n):\n",
        "    if n < 0:\n",
        "        return \"Angka harus >= 0\"\n",
        "    elif n == 0 or n == 1:\n",
        "        return 1\n",
        "    else:\n",
        "        return n * faktorial(n - 1)\n",
        "\n",
        "print(' Input dari user' )\n",
        "try:\n",
        "    angka = int(input(\"Masukkan angka: \"))\n",
        "    hasil = faktorial(angka)\n",
        "    print(f\"Faktorial dari {angka} adalah {hasil}\")\n",
        "except ValueError:\n",
        "    print(\"Harap masukkan angka bulat!\")\n",
        "\n"
      ]
    },
    {
      "cell_type": "code",
      "source": [
        "print('Topik input nilai ke dalam list ')\n",
        "\n",
        "# Inisialisasi list kosong untuk menampung nilai\n",
        "nilai_siswa = []\n",
        "# Dasar Algoritma dan Pemrograman - BisDig\n",
        "## Studi Kasus: Menentukan Nilai Tertinggi dari 5 Siswa\n",
        "### Deskripsi\n",
        "Program ini dibuat untuk menerima input nilai dari 5 siswa, menyimpannya dalam list (array),\n",
        "lalu mencari nilai tertinggi dan siswa\n",
        "\n",
        "### Penggunaan Perulangan\n",
        "- Program menggunakan perulangan `for` untuk menginput nilai siswa sebanyak 5 kali.\n",
        "- Perulangan mempermudah input data dalam jumlah banyak.\n",
        "\n",
        "### Penggunaan Array/List\n",
        "- Nilai siswa disimpan dalam list `nilai_siswa`.\n",
        "- Fungsi `max()` digunakan untuk mencari nilai tertinggi.\n",
        "- Fungsi `index()` digunakan untuk mencari urutan siswa berdasarkan nilai tertinggi.\n",
        "\n",
        "# Input nilai 5 siswa menggunakan perulangan\n",
        "for i in range(5):\n",
        "    try:\n",
        "        nilai = float(input(f\"Masukkan nilai siswa ke-{i+1}: \"))\n",
        "        nilai_siswa.append(nilai)\n",
        "    except ValueError:\n",
        "        print(\"Masukkan angka yang valid!\")\n",
        "        exit()\n",
        "\n",
        "# Cari nilai tertinggi dan posisi siswa\n",
        "nilai_tertinggi = max(nilai_siswa)\n",
        "siswa_tertinggi = nilai_siswa.index(nilai_tertinggi) + 1  # +1 karena index mulai dari 0\n",
        "\n",
        "# Tampilkan hasil\n",
        "print(f\"\\nNilai tertinggi adalah {nilai_tertinggi} diperoleh oleh siswa ke-{siswa_tertinggi}\")"
      ],
      "metadata": {
        "id": "bWzX6jt478V-"
      },
      "execution_count": null,
      "outputs": []
    },
    {
      "cell_type": "code",
      "source": [],
      "metadata": {
        "id": "aWdrz0Oc-S6N"
      },
      "execution_count": null,
      "outputs": []
    }
  ]
}