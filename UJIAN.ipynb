{
  "nbformat": 4,
  "nbformat_minor": 0,
  "metadata": {
    "colab": {
      "provenance": []
    },
    "kernelspec": {
      "name": "python3",
      "display_name": "Python 3"
    },
    "language_info": {
      "name": "python"
    }
  },
  "cells": [
    {
      "cell_type": "code",
      "execution_count": null,
      "metadata": {
        "id": "UCWSjmB13VAs"
      },
      "outputs": [],
      "source": [
        "print('Topik menghitung faktorial menggunakan rekursi dalam pyhton ')\n",
        "\n",
        "# Dasar Algoritma dan Pemrograman - BisDig\n",
        "\n",
        "## Studi Kasus: Menghitung Faktorial dengan Rekursi\n",
        "\n",
        "### Deskripsi menjelaskan bagaimana menghitung faktorial menggunakan fungsi rekursif dalam Python.\n",
        "\n",
        "### Manfaat Penggunaan Fungsi\n",
        "# Membuat program modular.\n",
        "# Memudahkan debugging.\n",
        "# Kode lebih mudah dipahami dan digunakan kembali.\n",
        "\n",
        "### Penjelasan Rekursi\n",
        "# Rekursi: Fungsi memanggil dirinya sendiri untuk menyelesaikan masalah yang lebih kecil.\n",
        "# Basis: Kondisi dasar yang digunakan untuk menghentikan pemanggilan rekursif.\n",
        "\n",
        "# Program pyhton rekursif Rumus Faktorial\n",
        "# n! = n × (n-1)!\n",
        "# Basis: 0! = 1\n",
        "\n",
        "def faktorial(n):\n",
        "    if n < 0:\n",
        "        return \"Angka harus >= 0\"\n",
        "    elif n == 0 or n == 1:\n",
        "        return 1\n",
        "    else:\n",
        "        return n * faktorial(n - 1)\n",
        "\n",
        "print(' Input dari user' )\n",
        "try:\n",
        "    angka = int(input(\"Masukkan angka: \"))\n",
        "    hasil = faktorial(angka)\n",
        "    print(f\"Faktorial dari {angka} adalah {hasil}\")\n",
        "except ValueError:\n",
        "    print(\"Harap masukkan angka bulat!\")\n",
        "\n"
      ]
    }
  ]
}