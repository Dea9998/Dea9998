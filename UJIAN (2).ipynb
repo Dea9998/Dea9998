{
  "nbformat": 4,
  "nbformat_minor": 0,
  "metadata": {
    "colab": {
      "provenance": []
    },
    "kernelspec": {
      "name": "python3",
      "display_name": "Python 3"
    },
    "language_info": {
      "name": "python"
    }
  },
  "cells": [
    {
      "cell_type": "code",
      "execution_count": null,
      "metadata": {
        "id": "UCWSjmB13VAs"
      },
      "outputs": [],
      "source": [
        "# Program untuk menentukan nilai tertinggi dari 5 siswa\n",
        "\n",
        "# Inisialisasi list kosong untuk menampung nilai siswa\n",
        "nilai_siswa = []\n",
        "\n",
        "# Input nilai 5 siswa\n",
        "for i in range(5):\n",
        "    try:\n",
        "        nilai = float(input(f\"Masukkan nilai siswa ke-{i+1}: \"))\n",
        "        nilai_siswa.append(nilai)\n",
        "    except ValueError:\n",
        "        print(\"Input tidak valid! Harap masukkan angka.\")\n",
        "        exit()\n",
        "\n",
        "# Menentukan nilai tertinggi dan siswa ke berapa yang mendapatkannya\n",
        "nilai_tertinggi = max(nilai_siswa)\n",
        "siswa_tertinggi = nilai_siswa.index(nilai_tertinggi) + 1  # +1 karena index dimulai dari 0\n",
        "\n",
        "# Menampilkan hasil\n",
        "print(f\"\\nNilai tertinggi adalah {nilai_tertinggi} diperoleh oleh siswa ke-{siswa_tertinggi}\")"
      ]
    }
  ]
}